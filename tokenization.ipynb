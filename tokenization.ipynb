{
  "nbformat": 4,
  "nbformat_minor": 0,
  "metadata": {
    "colab": {
      "provenance": []
    },
    "kernelspec": {
      "name": "python3",
      "display_name": "Python 3"
    },
    "language_info": {
      "name": "python"
    }
  },
  "cells": [
    {
      "cell_type": "code",
      "execution_count": 4,
      "metadata": {
        "colab": {
          "base_uri": "https://localhost:8080/"
        },
        "id": "DRx6m2AwsFiv",
        "outputId": "6cb10502-1990-4375-ee61-6068f7a7881b"
      },
      "outputs": [
        {
          "output_type": "stream",
          "name": "stderr",
          "text": [
            "[nltk_data] Downloading package punkt to /root/nltk_data...\n",
            "[nltk_data]   Unzipping tokenizers/punkt.zip.\n"
          ]
        },
        {
          "output_type": "stream",
          "name": "stdout",
          "text": [
            "\n",
            "Sentence tokenizer:\n",
            "['Hi, I am Aaryan.', 'What is your name?', 'Are you doing fine?']\n"
          ]
        }
      ],
      "source": [
        "import nltk\n",
        "nltk.download('punkt')\n",
        "text = \"Hi, I am Aaryan. What is your name? Are you doing fine?\"\n",
        "from nltk.tokenize import sent_tokenize\n",
        "sent_tokenize_list = sent_tokenize(text)\n",
        "print (\"\\nSentence tokenizer:\")\n",
        "print (sent_tokenize_list)"
      ]
    },
    {
      "cell_type": "code",
      "source": [
        "from nltk.tokenize import word_tokenize\n",
        "print (\"\\nWord tokenizer:\")\n",
        "print (word_tokenize(text))\n"
      ],
      "metadata": {
        "colab": {
          "base_uri": "https://localhost:8080/"
        },
        "id": "ekXb8zc9sfjZ",
        "outputId": "f034481d-e71b-4a2a-f843-516c7630b0a7"
      },
      "execution_count": 5,
      "outputs": [
        {
          "output_type": "stream",
          "name": "stdout",
          "text": [
            "\n",
            "Word tokenizer:\n",
            "['Hi', ',', 'I', 'am', 'Aaryan', '.', 'What', 'is', 'your', 'name', '?', 'Are', 'you', 'doing', 'fine', '?']\n"
          ]
        }
      ]
    },
    {
      "cell_type": "code",
      "source": [
        "from nltk.tokenize import WordPunctTokenizer\n",
        "word_punct_tokenizer = WordPunctTokenizer()\n",
        "print (\"\\nWord punct tokenizer:\")\n",
        "print (word_punct_tokenizer.tokenize(text))"
      ],
      "metadata": {
        "colab": {
          "base_uri": "https://localhost:8080/"
        },
        "id": "3c3nSh2Nswxb",
        "outputId": "95b20e62-f551-4aac-ebfc-5933d66f2260"
      },
      "execution_count": 8,
      "outputs": [
        {
          "output_type": "stream",
          "name": "stdout",
          "text": [
            "\n",
            "Word punct tokenizer:\n",
            "['Hi', ',', 'I', 'am', 'Aaryan', '.', 'What', 'is', 'your', 'name', '?', 'Are', 'you', 'doing', 'fine', '?']\n"
          ]
        }
      ]
    },
    {
      "cell_type": "code",
      "source": [],
      "metadata": {
        "id": "_unbvxFrtGBa"
      },
      "execution_count": null,
      "outputs": []
    }
  ]
}